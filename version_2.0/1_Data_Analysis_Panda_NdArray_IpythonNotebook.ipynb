{
 "cells": [
  {
   "cell_type": "code",
   "execution_count": 2,
   "metadata": {
    "collapsed": true
   },
   "outputs": [],
   "source": [
    "%quickref"
   ]
  },
  {
   "cell_type": "code",
   "execution_count": 5,
   "metadata": {
    "collapsed": true
   },
   "outputs": [],
   "source": [
    "from datetime import datetime"
   ]
  },
  {
   "cell_type": "code",
   "execution_count": 2,
   "metadata": {
    "collapsed": false
   },
   "outputs": [
    {
     "name": "stdout",
     "output_type": "stream",
     "text": [
      "Hello Python\n"
     ]
    }
   ],
   "source": [
    "print 'Hello Python'"
   ]
  },
  {
   "cell_type": "code",
   "execution_count": 3,
   "metadata": {
    "collapsed": false
   },
   "outputs": [
    {
     "name": "stdout",
     "output_type": "stream",
     "text": [
      " Volume in drive C has no label.\n",
      " Volume Serial Number is 6C28-BA93\n",
      "\n",
      " Directory of C:\\Users\\Mo.Pei\\Desktop\\data2\\DataScience_Python-master\n",
      "\n",
      "06/19/2017  04:33 PM    <DIR>          .\n",
      "06/19/2017  04:33 PM    <DIR>          ..\n",
      "06/19/2017  04:31 PM    <DIR>          .ipynb_checkpoints\n",
      "04/27/2017  09:05 AM             2,332 1_Data_Analysis_Panda_NdArray_IpythonNotebook.ipynb\n",
      "04/27/2017  09:05 AM            40,478 2_Data_Analysis_Panda_3 - NumPy Basics.ipynb\n",
      "04/27/2017  09:05 AM            61,200 2_Data_Analysis_Panda_3 - NumPy_Vectorization_Multiarray.ipynb\n",
      "04/27/2017  09:05 AM           295,076 2_Data_Analysis_Panda_4_5_Pandas Intros to File IO, Plotting, Stats and Joins .ipynb\n",
      "04/27/2017  09:05 AM           301,551 2_Data_Analysis_Panda_4_6_Pandas Renaming Cols, Handling NaN Values.ipynb\n",
      "04/27/2017  09:05 AM           109,760 2_Data_Analysis_Panda_4_Pandas_Series.ipynb\n",
      "04/27/2017  09:05 AM           156,802 2_Data_Analysis_Panda_4-7 pandas DataFrame Summary Statistics, Filtering, Dropping .ipynb\n",
      "04/27/2017  09:05 AM             6,773 2_Data_Analysis_Panda_5-1 Pandas IO Data, Different Ways of Indexing Data.ipynb\n",
      "04/27/2017  09:05 AM            68,865 2_Data_Analysis_Panda_5-2 pandas DataFrame advaced read_csv, read_html, more grouping, Apply,.ipynb\n",
      "04/27/2017  09:05 AM             7,981 2_Data_Analysis_Panda_NdArray_Map.ipynb\n",
      "06/19/2017  04:33 PM             6,375 CSV_API_&_JSON.ipynb\n",
      "04/27/2017  09:05 AM            35,846 my_figure.jpg\n",
      "04/27/2017  09:05 AM            26,146 my_figure.png\n",
      "04/27/2017  09:05 AM             1,686 Practice_Random_Forest_DecisionTree.ipynb\n",
      "06/19/2017  09:38 AM            10,852 Python_Automated_1_Pratice_Basic.ipynb\n",
      "04/27/2017  09:05 AM             2,235 Python_Automated_14_Working with CSV Files and JSON Data.ipynb\n",
      "06/19/2017  09:52 AM            21,003 Python_Automated_2_FlowControl.ipynb\n",
      "06/19/2017  03:16 PM            17,499 Python_Automated_3_Functions.ipynb\n",
      "06/19/2017  03:38 PM            55,908 Python_Automated_4_Lists&Tuple.ipynb\n",
      "06/19/2017  04:11 PM            21,141 Python_Automated_5_Dictionaries and Structuring Data.ipynb\n",
      "04/27/2017  09:05 AM                66 Python_function\n",
      "04/27/2017  09:05 AM         2,887,512 Python_Plot.ipynb\n",
      "04/27/2017  09:05 AM                21 README.md\n",
      "              23 File(s)      4,137,108 bytes\n",
      "               3 Dir(s)  222,305,673,216 bytes free\n"
     ]
    }
   ],
   "source": [
    "ls"
   ]
  },
  {
   "cell_type": "code",
   "execution_count": 6,
   "metadata": {
    "collapsed": false
   },
   "outputs": [],
   "source": [
    "datetime?"
   ]
  },
  {
   "cell_type": "code",
   "execution_count": 7,
   "metadata": {
    "collapsed": true
   },
   "outputs": [],
   "source": [
    "?datetime"
   ]
  },
  {
   "cell_type": "code",
   "execution_count": 15,
   "metadata": {
    "collapsed": false
   },
   "outputs": [],
   "source": [
    "%quickref"
   ]
  },
  {
   "cell_type": "code",
   "execution_count": 8,
   "metadata": {
    "collapsed": false
   },
   "outputs": [
    {
     "name": "stdout",
     "output_type": "stream",
     "text": [
      "Object `square` not found.\n"
     ]
    }
   ],
   "source": [
    "?square"
   ]
  },
  {
   "cell_type": "code",
   "execution_count": 9,
   "metadata": {
    "collapsed": true
   },
   "outputs": [],
   "source": [
    "def square(n):\n",
    "    return n*n"
   ]
  },
  {
   "cell_type": "code",
   "execution_count": 10,
   "metadata": {
    "collapsed": false
   },
   "outputs": [
    {
     "data": {
      "text/plain": [
       "25"
      ]
     },
     "execution_count": 10,
     "metadata": {},
     "output_type": "execute_result"
    }
   ],
   "source": [
    "square(5)"
   ]
  },
  {
   "cell_type": "code",
   "execution_count": 11,
   "metadata": {
    "collapsed": true
   },
   "outputs": [],
   "source": [
    "?square"
   ]
  },
  {
   "cell_type": "code",
   "execution_count": 13,
   "metadata": {
    "collapsed": true
   },
   "outputs": [],
   "source": [
    "square?"
   ]
  },
  {
   "cell_type": "code",
   "execution_count": 12,
   "metadata": {
    "collapsed": false
   },
   "outputs": [
    {
     "name": "stdout",
     "output_type": "stream",
     "text": [
      "Wall time: 0 ns\n"
     ]
    },
    {
     "data": {
      "text/plain": [
       "25"
      ]
     },
     "execution_count": 12,
     "metadata": {},
     "output_type": "execute_result"
    }
   ],
   "source": [
    "%time square(5)"
   ]
  }
 ],
 "metadata": {
  "kernelspec": {
   "display_name": "Python 2",
   "language": "python",
   "name": "python2"
  },
  "language_info": {
   "codemirror_mode": {
    "name": "ipython",
    "version": 2
   },
   "file_extension": ".py",
   "mimetype": "text/x-python",
   "name": "python",
   "nbconvert_exporter": "python",
   "pygments_lexer": "ipython2",
   "version": "2.7.13"
  }
 },
 "nbformat": 4,
 "nbformat_minor": 2
}
